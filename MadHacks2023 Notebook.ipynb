{
 "cells": [
  {
   "cell_type": "code",
   "execution_count": 1,
   "id": "5f4305d1",
   "metadata": {},
   "outputs": [
    {
     "name": "stdout",
     "output_type": "stream",
     "text": [
      "/bin/bash: brew: command not found\n",
      "mkdir: /data: Read-only file system\n",
      "usage: chown [-fhnvx] [-R [-H | -L | -P]] owner[:group] file ...\n",
      "       chown [-fhnvx] [-R [-H | -L | -P]] :group file ...\n",
      "/bin/bash: brew: command not found\n"
     ]
    }
   ],
   "source": [
    "# !brew install mongodb-community\n",
    "# !mkdir -p /data/db\n",
    "# !chown -R 'id -un'/data/db\n",
    "# !brew services start mongodb-community"
   ]
  },
  {
   "cell_type": "code",
   "execution_count": 4,
   "id": "2a1bfd71",
   "metadata": {},
   "outputs": [],
   "source": [
    "import pymongo\n",
    "from pymongo import MongoClient"
   ]
  },
  {
   "cell_type": "code",
   "execution_count": 480,
   "id": "84edf220",
   "metadata": {},
   "outputs": [],
   "source": [
    "import pandas as pd\n",
    "import gspread\n",
    "import selenium\n",
    "import requests\n",
    "from bs4 import BeautifulSoup\n",
    "import time\n",
    "import os\n",
    "import openai"
   ]
  },
  {
   "cell_type": "code",
   "execution_count": 481,
   "id": "009fc036",
   "metadata": {},
   "outputs": [],
   "source": [
    "from selenium.webdriver.support.ui import WebDriverWait\n",
    "from selenium.webdriver.support import expected_conditions as EC\n",
    "from selenium.webdriver.common.keys import Keys"
   ]
  },
  {
   "cell_type": "code",
   "execution_count": 482,
   "id": "f3e94388",
   "metadata": {},
   "outputs": [],
   "source": [
    "from selenium.webdriver.chrome.options import Options\n",
    "from selenium.webdriver.chrome.service import Service\n",
    "from selenium.webdriver.common.by import By\n",
    "from selenium.common.exceptions import NoSuchElementException\n",
    "from selenium import webdriver\n",
    "from selenium.webdriver.common.by import By"
   ]
  },
  {
   "cell_type": "code",
   "execution_count": 6,
   "id": "c068b52a",
   "metadata": {},
   "outputs": [],
   "source": [
    "client = MongoClient(\"localhost\", 27017) \n",
    "B = client[\"collection\"]"
   ]
  },
  {
   "cell_type": "code",
   "execution_count": 580,
   "id": "b84b4ba0",
   "metadata": {},
   "outputs": [
    {
     "name": "stderr",
     "output_type": "stream",
     "text": [
      "/var/folders/0p/m7h9nfyj06q0sft4l6k4r5jr0000gq/T/ipykernel_5046/2929111194.py:3: DeprecationWarning: executable_path has been deprecated, please pass in a Service object\n",
      "  driver = webdriver.Chrome('Bolic/chromedriver')\n"
     ]
    }
   ],
   "source": [
    "options = Options()\n",
    "options.headless = True\n",
    "driver = webdriver.Chrome('Bolic/chromedriver')"
   ]
  },
  {
   "cell_type": "code",
   "execution_count": 29,
   "id": "d666e175",
   "metadata": {},
   "outputs": [
    {
     "data": {
      "text/plain": [
       "['random@wisc.edu', 'silly_password123']"
      ]
     },
     "execution_count": 29,
     "metadata": {},
     "output_type": "execute_result"
    }
   ],
   "source": [
    "with open(\"env_creds.txt\", \"r\") as f:\n",
    "    l=f.read()\n",
    "user_id=l.replace(\"\\\\\\n\", \" \").split(\" \")[-3:-1][0]\n",
    "psswd=l.replace(\"\\\\\\n\", \" \").split(\" \")[-3:-1][1]"
   ]
  },
  {
   "cell_type": "code",
   "execution_count": 581,
   "id": "1892e940",
   "metadata": {},
   "outputs": [],
   "source": [
    "driver.get(\"https://www.linkedin.com/\")"
   ]
  },
  {
   "cell_type": "code",
   "execution_count": 582,
   "id": "a965c3b9",
   "metadata": {},
   "outputs": [],
   "source": [
    "email=driver.find_element(By.XPATH,\"//input[@name='session_key']\")\n",
    "email.send_keys(user_id)\n",
    "password=driver.find_element(By.XPATH,\"//input[@name='session_password']\")\n",
    "password.send_keys(psswd)\n",
    "time.sleep(3)\n",
    "submit = driver.find_element(By.XPATH,\"//button[@type='submit']\").click()\n",
    "time.sleep(3)"
   ]
  },
  {
   "cell_type": "code",
   "execution_count": 437,
   "id": "38a58851",
   "metadata": {},
   "outputs": [],
   "source": [
    "#personal bloggger function\n",
    "def personal_blog_post(prompt):\n",
    "    response=openai.ChatCompletion.create(\n",
    "      model=\"gpt-3.5-turbo\",\n",
    "      messages=[\n",
    "            {\"role\": \"system\", \"content\": \"LinkedIn Blog Post\"},\n",
    "            {\"role\": \"user\", \"content\": prompt}\n",
    "        ]\n",
    "    )\n",
    "    return response[\"choices\"][0][\"message\"][\"content\"]"
   ]
  },
  {
   "cell_type": "code",
   "execution_count": 490,
   "id": "25d68758",
   "metadata": {},
   "outputs": [],
   "source": [
    "\n",
    "def message_post(prompt):\n",
    "    response=openai.ChatCompletion.create(\n",
    "      model=\"gpt-3.5-turbo\",\n",
    "      messages=[\n",
    "            {\"role\": \"system\", \"content\": \"LinkedIn Message Request\"},\n",
    "            {\"role\": \"user\", \"content\": prompt}\n",
    "        ]\n",
    "    )\n",
    "    return response[\"choices\"][0][\"message\"][\"content\"]"
   ]
  },
  {
   "cell_type": "code",
   "execution_count": 463,
   "id": "f7e88f00",
   "metadata": {},
   "outputs": [],
   "source": [
    "#any content\n",
    "def blog_post (stext):\n",
    "    response=openai.Completion.create(engine=\"text-davinci-003\", prompt=stext,temperature=.1, max_tokens=200, top_p=1, frequency_penalty=1, presence_penalty=0)\n",
    "    content = response.choices[0].text\n",
    "    return content"
   ]
  },
  {
   "cell_type": "code",
   "execution_count": 578,
   "id": "e212f202",
   "metadata": {},
   "outputs": [],
   "source": [
    "#making posts:\n",
    "button = WebDriverWait(driver, 10).until(EC.element_to_be_clickable((By.XPATH, \"//span[text()='Start a post']\")))\n",
    "button.click()"
   ]
  },
  {
   "cell_type": "code",
   "execution_count": 500,
   "id": "9945f4be",
   "metadata": {},
   "outputs": [],
   "source": [
    "#blank box\n",
    "y=driver.find_element(By.CLASS_NAME, \"ql-editor.ql-blank\")\n",
    "y.send_keys(blog_post(\"What kinds of cats are there\"))"
   ]
  },
  {
   "cell_type": "code",
   "execution_count": 465,
   "id": "f517350c",
   "metadata": {},
   "outputs": [],
   "source": [
    "#post button\n",
    "z= WebDriverWait(driver, 10).until(EC.element_to_be_clickable((By.XPATH, \"//span[text()='Post']\")))\n",
    "z.click()"
   ]
  },
  {
   "cell_type": "markdown",
   "id": "0f67e834",
   "metadata": {},
   "source": [
    "Automating LinkedIN Connections"
   ]
  },
  {
   "cell_type": "code",
   "execution_count": 547,
   "id": "97ba71cc",
   "metadata": {},
   "outputs": [],
   "source": [
    "#networking and connections\n",
    "network_url = \"https://www.linkedin.com/mynetwork/\"  \n",
    "driver.get(network_url)"
   ]
  },
  {
   "cell_type": "code",
   "execution_count": null,
   "id": "77755a97",
   "metadata": {},
   "outputs": [],
   "source": [
    "#making relevant connections"
   ]
  },
  {
   "cell_type": "code",
   "execution_count": 548,
   "id": "9a50582b",
   "metadata": {},
   "outputs": [],
   "source": [
    "attempt_list=[]\n",
    "see_elements = driver.find_elements(By.TAG_NAME, \"button\")\n",
    "for i in range(len(see_elements)-1, -1,-1):\n",
    "    if see_elements[i].text==\"See all\":\n",
    "        see_elements[i].click  \n",
    "        discover_person_cards=driver.find_elements(By.CLASS_NAME, 'app-aware-link')\n",
    "        for i in range(len(discover_person_cards)):\n",
    "            if i==len(discover_person_cards)-2:\n",
    "                break\n",
    "            elif i==0 or i%2==0:\n",
    "                href = discover_person_cards[i].get_attribute('href')\n",
    "                name = discover_person_cards[i].text\n",
    "                attempt_list.append((name, href))"
   ]
  },
  {
   "cell_type": "code",
   "execution_count": 552,
   "id": "9930d53a",
   "metadata": {},
   "outputs": [],
   "source": [
    "example_list=[item  for item in attempt_list if 'MEMBER_PROFILE_CANNED_SEARCH' not in item[1] ]\n",
    "new_list=[]\n",
    "from linkedin_api import Linkedin\n",
    "application = Linkedin(user_id, psswd)\n",
    "for item in example_list:\n",
    "    if item[1].split(\"/\")[-2]==\"in\":\n",
    "        new_list.append(item)"
   ]
  },
  {
   "cell_type": "code",
   "execution_count": 573,
   "id": "20246429",
   "metadata": {},
   "outputs": [],
   "source": [
    "industry_selec=\"Information Technology and Services\"\n",
    "school='University of Wisconsin-Madison'"
   ]
  },
  {
   "cell_type": "code",
   "execution_count": 575,
   "id": "b0006836",
   "metadata": {},
   "outputs": [
    {
     "name": "stdout",
     "output_type": "stream",
     "text": [
      "nice\n",
      "nice\n"
     ]
    }
   ],
   "source": [
    "for item in new_list:\n",
    "    person_profile=application.get_profile(item[1].split(\"/\")[-1])\n",
    "    try:\n",
    "        industry=person_profile['industryName']\n",
    "        educ_list=[True for dicte in person_profile[\"education\"] if school in dicte.values()]\n",
    "    except:\n",
    "        educ_list=[True for dicte in person_profile[\"education\"] if school in dicte.values()]\n",
    "    if True in educ_list or industry==industry_selec:\n",
    "        print(\"nice\")\n",
    "        driver.get(item[1])\n",
    "        time.sleep(2)\n",
    "        button_elements = driver.find_elements(By.TAG_NAME, \"button\")\n",
    "        try:\n",
    "            button_elements[[item.text for item in button_elements].index(\"Connect\")].click()\n",
    "        except:\n",
    "            continue\n",
    "        time.sleep(3)\n",
    "        new_button_elements = driver.find_elements(By.TAG_NAME, \"button\")\n",
    "        new_button_elements[[item.text for item in new_button_elements].index(\"Add a note\")].click()\n",
    "        time.sleep(3)\n",
    "        textarea_element = driver.find_element(By.ID, \"custom-message\")\n",
    "        textarea_element.send_keys(\"Hey, I'm excited to connect!\")\n",
    "        time.sleep(3)\n",
    "        new_new_button_elements = driver.find_elements(By.TAG_NAME, \"button\")\n",
    "        new_button_elements[[item.text for item in new_new_button_elements].index(\"Send\")].click()\n",
    "        time.sleep(3)\n",
    "        #break was implemented for testing purposes\n",
    "        break\n",
    "    else:\n",
    "        new_list.remove(item)\n",
    "        continue"
   ]
  },
  {
   "attachments": {},
   "cell_type": "markdown",
   "id": "46fbec76",
   "metadata": {},
   "source": [
    "This next feature was an exploratory search/application to easy apply jobs"
   ]
  },
  {
   "cell_type": "code",
   "execution_count": 535,
   "id": "166560af",
   "metadata": {},
   "outputs": [],
   "source": [
    "search = driver.find_element(By.XPATH, \"//input[@aria-label='Search']\")\n",
    "search.send_keys(\"Software Engineering Intern\") #str(item[0]).split(\"\\n\")[1]\n",
    "search.send_keys(Keys.RETURN)\n",
    "time.sleep(2)\n",
    "button_elements = driver.find_elements(By.TAG_NAME, \"button\")\n",
    "button_elements[[item.text for item in button_elements].index(\"Jobs\")].click()"
   ]
  },
  {
   "cell_type": "code",
   "execution_count": 576,
   "id": "7d75afb2",
   "metadata": {},
   "outputs": [],
   "source": [
    "button_elements = driver.find_elements(By.TAG_NAME, \"button\")\n",
    "button_elements[[item.text for item in button_elements].index(\"Easy Apply\")].click()\n",
    "\n",
    "button_elements = driver.find_elements(By.TAG_NAME, \"button\")\n",
    "button_elements[[button_elements[i].text for i in range(len(button_elements)-1, -1, -1)].index(\"Easy Apply\")].click()"
   ]
  },
  {
   "cell_type": "code",
   "execution_count": 577,
   "id": "0bd043fb",
   "metadata": {},
   "outputs": [],
   "source": [
    "button_elements = driver.find_elements(By.TAG_NAME, \"button\")\n",
    "button_elements[[item.text for item in button_elements].index(\"Next\")].click()\n",
    "button_elements = driver.find_elements(By.TAG_NAME, \"button\")\n",
    "#resume selection\n",
    "button_elements[[item.text for item in button_elements].index(\"Choose\")].click()\n",
    "input_elements = driver.find_elements(By.CLASS_NAME, \"artdeco-text-input--input\")\n",
    "\n",
    "# send keys to each input element\n",
    "for input_element in input_elements:\n",
    "    input_element.send_keys(\"1\")\n",
    "    time.sleep(1)\n",
    "    \n",
    "button_elements = driver.find_elements(By.TAG_NAME, \"button\")\n",
    "button_elements[[item.text for item in button_elements].index(\"Submit Application\")].click()"
   ]
  },
  {
   "cell_type": "code",
   "execution_count": 510,
   "id": "e9410dbc",
   "metadata": {},
   "outputs": [],
   "source": []
  }
 ],
 "metadata": {
  "kernelspec": {
   "display_name": "Python 3 (ipykernel)",
   "language": "python",
   "name": "python3"
  },
  "language_info": {
   "codemirror_mode": {
    "name": "ipython",
    "version": 3
   },
   "file_extension": ".py",
   "mimetype": "text/x-python",
   "name": "python",
   "nbconvert_exporter": "python",
   "pygments_lexer": "ipython3",
   "version": "3.9.7"
  }
 },
 "nbformat": 4,
 "nbformat_minor": 5
}
